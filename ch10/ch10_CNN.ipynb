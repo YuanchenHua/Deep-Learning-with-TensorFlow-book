{
 "cells": [
  {
   "cell_type": "code",
   "execution_count": 1,
   "metadata": {},
   "outputs": [],
   "source": [
    "import tensorflow as tf\n",
    "import numpy as np\n",
    "from tensorflow.keras import Sequential\n",
    "def printl(a):\n",
    "    print(a)\n",
    "    print('========================================================')"
   ]
  },
  {
   "cell_type": "markdown",
   "metadata": {},
   "source": [
    "# CNN\n",
    "## 卷积层实现\n",
    "### 通过函数自定义权值\n",
    "### `tf.nn.conv2d()`\n",
    "在 TensorFlow 中，通过 tf.nn.conv2d 函数可以方便地实现 2D 卷积运算。tf.nn.conv2d 基于输入 $X: b ℎ 𝑤 𝑐_𝑖𝑛$ 和卷积核 $W: 𝑘 𝑘 𝑐_{𝑖𝑛} 𝑐_{𝑜𝑢𝑡}$ 进行卷积运算，得到输出$ O :b′ ℎ′ 𝑤′ 𝑐_{𝑜𝑢𝑡} $，其中$𝑐_{𝑖𝑛}$ 表示输入通道数，$𝑐_{𝑜𝑢𝑡}$ 表示卷积核的数量，也是输出特征图的通道数。"
   ]
  },
  {
   "cell_type": "code",
   "execution_count": 4,
   "metadata": {},
   "outputs": [
    {
     "name": "stdout",
     "output_type": "stream",
     "text": [
      "(2, 3, 3, 4)\n"
     ]
    }
   ],
   "source": [
    "x = tf.random.normal([2,5,5,3]) # 模拟输入，3 通道，高宽为 5\n",
    "# 需要根据[k,k,cin,cout]格式创建 W 张量，4 个 3x3 大小卷积核\n",
    "w = tf.random.normal([3,3,3,4])\n",
    "# 步长为 1, padding 为 0,\n",
    "out = tf.nn.conv2d(x,w,strides=1,padding=[[0,0],[0,0],[0,0],[0,0]])\n",
    "print(out.shape)"
   ]
  },
  {
   "cell_type": "markdown",
   "metadata": {},
   "source": [
    "其中 padding 参数的设置格式为：`padding=[[0,0],[上,下],[左,右],[0,0]]`  \n",
    "例如，上下左右各 padding 一个单位，则 `padding=[[0,0],[1,1],[1,1],[0,0]]`  \n",
    "通过设置参数 `padding='SAME'，strides=1` 可以直接得到输入、输出同大小的卷积层  \n",
    "当s>1时，设置 padding='SAME'将使得输出高、宽将成为原来的$ \\frac{1}{s}$"
   ]
  },
  {
   "cell_type": "code",
   "execution_count": 5,
   "metadata": {},
   "outputs": [
    {
     "name": "stdout",
     "output_type": "stream",
     "text": [
      "(2, 5, 5, 4)\n"
     ]
    }
   ],
   "source": [
    "x = tf.random.normal([2,5,5,3]) # 模拟输入，3 通道，高宽为 5\n",
    "w = tf.random.normal([3,3,3,4]) # 4 个 3x3 大小的卷积核\n",
    "# 步长为,padding 设置为输出、输入同大小\n",
    "# 需要注意的是, padding=same 只有在 strides=1 时才是同大小\n",
    "out = tf.nn.conv2d(x,w,strides=1,padding='SAME')\n",
    "print(out.shape)"
   ]
  },
  {
   "cell_type": "markdown",
   "metadata": {},
   "source": [
    "**bias的数目和卷积核的数目一样**  \n",
    "卷积神经网络层与全连接层一样，可以设置网络带偏置向量。tf.nn.conv2d 函数是没有实现偏置向量计算的，添加偏置只需要手动累加偏置张量即可："
   ]
  },
  {
   "cell_type": "code",
   "execution_count": 7,
   "metadata": {},
   "outputs": [],
   "source": [
    "# 根据[cout]格式创建偏置向量\n",
    "b = tf.zeros([4])\n",
    "# 在卷积输出上叠加偏置向量，它会自动 broadcasting 为[b,h',w',cout]\n",
    "out = out + b"
   ]
  },
  {
   "cell_type": "markdown",
   "metadata": {},
   "source": [
    "### 通过类 `layers.Conv2D`"
   ]
  },
  {
   "cell_type": "markdown",
   "metadata": {},
   "source": [
    "4 个 3x3 大小的卷积核的卷积层，步长为 1， padding 方案为'SAME'："
   ]
  },
  {
   "cell_type": "code",
   "execution_count": 12,
   "metadata": {},
   "outputs": [],
   "source": [
    "layer = tf.keras.layers.Conv2D(4,kernel_size=3,strides=1,padding='SAME')"
   ]
  },
  {
   "cell_type": "markdown",
   "metadata": {},
   "source": [
    "4 个 3x4 大小的卷积核，竖直方向移动步长 $𝑠_ℎ = 2$，水平方向移动步长$𝑠_𝑤 = 1$："
   ]
  },
  {
   "cell_type": "code",
   "execution_count": 13,
   "metadata": {},
   "outputs": [],
   "source": [
    "layer = tf.keras.layers.Conv2D(4,kernel_size=(3,4),strides=(2,1),padding='SAME')"
   ]
  },
  {
   "cell_type": "code",
   "execution_count": 20,
   "metadata": {},
   "outputs": [
    {
     "data": {
      "text/plain": [
       "TensorShape([2, 6, 6, 4])"
      ]
     },
     "execution_count": 20,
     "metadata": {},
     "output_type": "execute_result"
    }
   ],
   "source": [
    "x = tf.random.truncated_normal([2,6,6,3])\n",
    "layer = tf.keras.layers.Conv2D(4,kernel_size=3,strides=1,padding='SAME')\n",
    "out = layer(x) # 前向计算\n",
    "out.shape"
   ]
  },
  {
   "cell_type": "code",
   "execution_count": 21,
   "metadata": {},
   "outputs": [
    {
     "data": {
      "text/plain": [
       "[<tf.Variable 'conv2d_9/kernel:0' shape=(3, 3, 3, 4) dtype=float32, numpy=\n",
       " array([[[[-0.00560778,  0.01041681,  0.15193915,  0.1957666 ],\n",
       "          [-0.03939977, -0.04343548,  0.108899  ,  0.10798538],\n",
       "          [-0.10766666, -0.26234886,  0.02284598,  0.07559374]],\n",
       " \n",
       "         [[-0.01738042,  0.19458124,  0.12696081, -0.19798371],\n",
       "          [ 0.18966445, -0.18484047,  0.2535651 , -0.22216918],\n",
       "          [ 0.2889981 ,  0.03528684, -0.12808494, -0.10228159]],\n",
       " \n",
       "         [[-0.10554637,  0.12051079, -0.20063978, -0.23909077],\n",
       "          [-0.2722934 ,  0.04857466, -0.12020154, -0.18777998],\n",
       "          [-0.0919847 , -0.0076943 , -0.21867704,  0.1820271 ]]],\n",
       " \n",
       " \n",
       "        [[[-0.01899943, -0.18684599, -0.11526744,  0.194927  ],\n",
       "          [ 0.28169015, -0.04021236,  0.07959813, -0.06802872],\n",
       "          [-0.01625314,  0.09175912, -0.13866606,  0.2556434 ]],\n",
       " \n",
       "         [[-0.16311383, -0.08042434,  0.3028321 , -0.265151  ],\n",
       "          [ 0.30112997,  0.03816772, -0.22044827,  0.01493108],\n",
       "          [ 0.02341789,  0.29026076,  0.02246669,  0.09221801]],\n",
       " \n",
       "         [[ 0.17402229, -0.00565922, -0.23495556,  0.18030274],\n",
       "          [-0.25237042,  0.07802254,  0.17612138, -0.16373365],\n",
       "          [ 0.19791582,  0.16599566,  0.14035445, -0.07126518]]],\n",
       " \n",
       " \n",
       "        [[[ 0.12730965, -0.16052993,  0.0742631 ,  0.03533167],\n",
       "          [ 0.20249167,  0.07666615,  0.09794557,  0.19367751],\n",
       "          [-0.02394935,  0.17864877, -0.27423334,  0.21986178]],\n",
       " \n",
       "         [[-0.08862831,  0.1543636 , -0.27950495,  0.09223193],\n",
       "          [-0.19293195,  0.2486715 ,  0.20330706, -0.17164728],\n",
       "          [-0.0465849 ,  0.01843655, -0.08928955,  0.01193488]],\n",
       " \n",
       "         [[-0.16571178, -0.1467774 , -0.14996994,  0.2893996 ],\n",
       "          [-0.09571825, -0.20812014,  0.19915494,  0.28088555],\n",
       "          [-0.28515527,  0.11794838,  0.1896807 ,  0.06625772]]]],\n",
       "       dtype=float32)>,\n",
       " <tf.Variable 'conv2d_9/bias:0' shape=(4,) dtype=float32, numpy=array([0., 0., 0., 0.], dtype=float32)>]"
      ]
     },
     "execution_count": 21,
     "metadata": {},
     "output_type": "execute_result"
    }
   ],
   "source": [
    "layer.trainable_variables"
   ]
  },
  {
   "cell_type": "code",
   "execution_count": null,
   "metadata": {},
   "outputs": [],
   "source": []
  }
 ],
 "metadata": {
  "kernelspec": {
   "display_name": "Python 3",
   "language": "python",
   "name": "python3"
  },
  "language_info": {
   "codemirror_mode": {
    "name": "ipython",
    "version": 3
   },
   "file_extension": ".py",
   "mimetype": "text/x-python",
   "name": "python",
   "nbconvert_exporter": "python",
   "pygments_lexer": "ipython3",
   "version": "3.7.4"
  }
 },
 "nbformat": 4,
 "nbformat_minor": 2
}
